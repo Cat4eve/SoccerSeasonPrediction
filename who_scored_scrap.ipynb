{
 "cells": [
  {
   "cell_type": "code",
   "execution_count": 10,
   "metadata": {},
   "outputs": [],
   "source": [
    "import pandas as pd\n",
    "\n",
    "import bs4\n",
    "from selenium import webdriver\n",
    "from selenium.webdriver.common.by import By"
   ]
  },
  {
   "cell_type": "code",
   "execution_count": 12,
   "metadata": {},
   "outputs": [],
   "source": [
    "def date_to_ints(date: str):\n",
    "    d = {'mon': '1', 'tue' : '2', 'wed': '3', 'thu' : '4', 'fri': '5', 'sat': '6', 'sun': '7'}\n",
    "    m = {'jan': '01', 'feb': '02', 'mar': '03', 'apr': '04', 'may': '05', 'jun': '06', 'jul': '07', 'aug': '08', 'sep': '09', 'oct': '10', 'nov': '11', 'dec': '12', }\n",
    "    d1 = date[1].string.split(',')\n",
    "    d2 = d1[1].strip().lower().split('-')\n",
    "    d2[1] = m[d2[1]]\n",
    "    date =  '-'.join(d2) + '-' + d[d1[0].lower()] + '-' + '-'.join(date[0].string.split(':'))\n",
    "    return date"
   ]
  },
  {
   "cell_type": "code",
   "execution_count": 13,
   "metadata": {},
   "outputs": [],
   "source": [
    "BASE_URL = 'https://www.whoscored.com/'\n",
    "SEASON_URL = \"Regions/252/Tournaments/2/Seasons/8228/England-Premier-League\"\n",
    "GAME_LINKS = []\n",
    "\n",
    "driver = webdriver.Chrome()\n",
    "driver.get(BASE_URL+SEASON_URL)\n",
    "source = bs4.BeautifulSoup(driver.page_source)\n",
    "\n",
    "SEASON = source.find('option', attrs={'value':f\"/{SEASON_URL}\", \"selected\": \"selected\"}).string.replace('/','-')"
   ]
  },
  {
   "cell_type": "code",
   "execution_count": 14,
   "metadata": {},
   "outputs": [],
   "source": [
    "def append_links():\n",
    "    game_tables = source.find_all('a', attrs={'class': 'match-report'})\n",
    "    for game_table in game_tables:\n",
    "        game_link = game_table['href']\n",
    "        game_link = game_link.split('/')\n",
    "        game_link[3] = 'PlayerStatistics'\n",
    "        GAME_LINKS.append('/'.join(game_link))"
   ]
  },
  {
   "cell_type": "code",
   "execution_count": 15,
   "metadata": {},
   "outputs": [
    {
     "name": "stdout",
     "output_type": "stream",
     "text": [
      "416\n"
     ]
    }
   ],
   "source": [
    "append_links()  \n",
    "while source.find('a', attrs={'class': ['previous']})['title'][0] != 'N':\n",
    "    driver.find_element(By.CLASS_NAME, 'previous').click()\n",
    "    source = bs4.BeautifulSoup(driver.page_source)\n",
    "    append_links()\n",
    "\n",
    "driver.close()\n",
    "print(len(GAME_LINKS))"
   ]
  },
  {
   "cell_type": "code",
   "execution_count": 16,
   "metadata": {},
   "outputs": [
    {
     "name": "stdout",
     "output_type": "stream",
     "text": [
      "/Matches/1485428/PlayerStatistics/England-Premier-League-2020-2021-Arsenal-Manchester-United\n"
     ]
    }
   ],
   "source": [
    "GAME_LINKS = list(set(GAME_LINKS))\n",
    "print(GAME_LINKS[0])"
   ]
  },
  {
   "cell_type": "code",
   "execution_count": 17,
   "metadata": {},
   "outputs": [],
   "source": [
    "GAMES_DATA = []\n",
    "\n",
    "for game_link in GAME_LINKS:\n",
    "    driver = webdriver.Chrome()\n",
    "    driver.get(BASE_URL+game_link)\n",
    "\n",
    "    game_data = {}\n",
    "    game_source = bs4.BeautifulSoup(driver.page_source)\n",
    "\n",
    "    players = game_source.find_all('a', attrs={'class': 'player-link'})\n",
    "    player_names = []\n",
    "    for i in range(0, len(players), 2):\n",
    "        player_names.append(' '.join(players[i]['href'].split('/')[-1].split('-')))\n",
    "    game_data['name'] = player_names\n",
    "\n",
    "    teams = game_source.find_all('span', attrs={'class': 'team-name'})\n",
    "    team_names = []\n",
    "    for i in range(0, len(teams), 2):\n",
    "        team_names.append(teams[i].string.split(',')[0])\n",
    "    game_data['team'] = team_names\n",
    "\n",
    "    numbers_and_positions = game_source.find_all('span', attrs={'class': 'player-meta-data'})\n",
    "    team_numbers = []\n",
    "    team_positions = []\n",
    "    for i in range(0, len(numbers_and_positions), 4):\n",
    "        team_numbers.append(numbers_and_positions[i].string)\n",
    "        team_positions.append(','.join([position.strip() for position in numbers_and_positions[i+1].string.split(',') if position != '']))\n",
    "    game_data['number'] = team_numbers\n",
    "    game_data['position'] = team_positions\n",
    "\n",
    "    minsPlayed = game_source.find_all('td', attrs={'class': 'minsPlayed'})\n",
    "    mins_played = []\n",
    "    for i in range(0, len(minsPlayed), 1):\n",
    "        mins_played.append(0 if minsPlayed[i].string.strip() == '-' else int(minsPlayed[i].string))\n",
    "    game_data['min'] = mins_played\n",
    "\n",
    "    goals = game_source.find_all('td', attrs={'class': 'goal'})\n",
    "    goals_scored = []\n",
    "    for i in range(0, len(goals), 1):\n",
    "        goals_scored.append(0 if goals[i].string.strip() == '-' else int(goals[i].string))\n",
    "    game_data['goal'] = goals_scored\n",
    "\n",
    "    assits = game_source.find_all('td', attrs={'class': 'assistTotal'})\n",
    "    goals_assisted = []\n",
    "    for i in range(0, len(assits), 1):\n",
    "        goals_assisted.append(0 if assits[i].string.strip() == '-' else int(assits[i].string))\n",
    "    game_data['assist'] = goals_assisted\n",
    "\n",
    "    yellows = game_source.find_all('td', attrs={'class': 'yellowCard'})\n",
    "    yellow_cards = []\n",
    "    for i in range(0, len(yellows), 1):\n",
    "        yellow_cards.append(0 if yellows[i].string.strip() == '-' else int(yellows[i].string))\n",
    "    game_data['yellow'] = yellow_cards\n",
    "\n",
    "    reds = game_source.find_all('td', attrs={'class': 'redCard'})\n",
    "    red_cards = []\n",
    "    for i in range(0, len(reds), 1):\n",
    "        red_cards.append(0 if reds[i].string.strip() == '-' else int(reds[i].string))\n",
    "    game_data['red'] = red_cards\n",
    "\n",
    "    shots = game_source.find_all('td', attrs={'class': 'shotsPerGame'})\n",
    "    shots_per_game = []\n",
    "    for i in range(0, len(shots), 1):\n",
    "        shots_per_game.append(0 if shots[i].string.strip() == '-' else float(shots[i].string))\n",
    "    game_data['shot'] = shots_per_game\n",
    "\n",
    "    passes = game_source.find_all('td', attrs={'class': 'passSuccess'})\n",
    "    pass_success = []\n",
    "    for i in range(0, len(passes), 1):\n",
    "        pass_success.append(0 if passes[i].string.strip() == '-' else float(passes[i].string)/100)\n",
    "    game_data['pass'] = pass_success\n",
    "\n",
    "    aers = game_source.find_all('td', attrs={'class': 'aerialWonPerGame'})\n",
    "    aer_wins = []\n",
    "    for i in range(0, len(aers), 1):\n",
    "        aer_wins.append(0 if aers[i].string.strip() == '-' else float(aers[i].string))\n",
    "    game_data['aer'] = aer_wins\n",
    "    \n",
    "    moms = game_source.find_all('td', attrs={'class': 'manOfTheMatch'})\n",
    "    mom = []\n",
    "    for i in range(0, len(moms), 1):\n",
    "        mom.append(0 if moms[i].string.strip() == '-' else int(moms[i].string))\n",
    "    game_data['mom'] = mom\n",
    "\n",
    "    ratings = game_source.find_all('td', attrs={'class': 'rating'})\n",
    "    game_rating = []\n",
    "    for i in range(0, len(ratings), 1):\n",
    "        game_rating.append(0 if ratings[i].string.strip() == '-' else float(ratings[i].string))\n",
    "    game_data['rating'] = game_rating\n",
    "\n",
    "    # driver = webdriver.Chrome()By.id\n",
    "    game_link = game_link.split('/')\n",
    "    # game_link[3] = 'Show'\n",
    "    # driver.get(BASE_URL+'/'.join(game_link))\n",
    "    DATE = date_to_ints(game_source.find_all('div', attrs={'class': 'info-block'})[-1].find_all('dd'))\n",
    "\n",
    "    # driver.close()\n",
    "\n",
    "    GAMES_DATA.append(pd.DataFrame(game_data))\n",
    "\n",
    "    pd.DataFrame(game_data).to_csv(path_or_buf = f\"./seasons/{SEASON_URL.split('/')[-1]}/{SEASON}/{DATE+'-'+game_link[2]}.csv\", index=False)"
   ]
  },
  {
   "cell_type": "code",
   "execution_count": 9,
   "metadata": {},
   "outputs": [
    {
     "name": "stdout",
     "output_type": "stream",
     "text": [
      "[<dd>17:30</dd>, <dd>Sat, 30-Jan-21</dd>]\n"
     ]
    }
   ],
   "source": [
    "driver = webdriver.Chrome()\n",
    "driver.get(\"https://www.whoscored.com//Matches/1485428/PlayerStatistics/England-Premier-League-2020-2021-Arsenal-Manchester-United\")\n",
    "\n",
    "source = bs4.BeautifulSoup(driver.page_source)\n",
    "print(source.find_all('div', attrs={'class': 'info-block'})[-1].find_all('dd'))\n",
    "\n",
    "driver.close()"
   ]
  }
 ],
 "metadata": {
  "kernelspec": {
   "display_name": "Python 3",
   "language": "python",
   "name": "python3"
  },
  "language_info": {
   "codemirror_mode": {
    "name": "ipython",
    "version": 3
   },
   "file_extension": ".py",
   "mimetype": "text/x-python",
   "name": "python",
   "nbconvert_exporter": "python",
   "pygments_lexer": "ipython3",
   "version": "3.10.11"
  },
  "orig_nbformat": 4
 },
 "nbformat": 4,
 "nbformat_minor": 2
}

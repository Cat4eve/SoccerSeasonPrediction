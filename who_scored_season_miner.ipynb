{
 "cells": [
  {
   "cell_type": "code",
   "execution_count": 44,
   "metadata": {},
   "outputs": [],
   "source": [
    "import pandas as pd\n",
    "\n",
    "import bs4\n",
    "from selenium import webdriver\n",
    "from selenium.webdriver.common.by import By\n",
    "from selenium.webdriver.support.wait import WebDriverWait\n",
    "from selenium.webdriver.support import expected_conditions as EC\n",
    "\n",
    "import time"
   ]
  },
  {
   "cell_type": "code",
   "execution_count": 45,
   "metadata": {},
   "outputs": [],
   "source": [
    "driver = webdriver.Chrome()\n",
    "driver.get('https://www.whoscored.com/Regions/252/Tournaments/2/Seasons/9075/Stages/20934/PlayerStatistics/England-Premier-League-2022-2023')"
   ]
  },
  {
   "cell_type": "code",
   "execution_count": 46,
   "metadata": {},
   "outputs": [],
   "source": [
    "source = bs4.BeautifulSoup(driver.page_source)\n",
    "\n",
    "\n",
    "GAME_DATA = { 'name': [], 'team': [], 'min': [], 'goal': [], 'assist': [], 'shot': [], 'pass': [], 'aer': [], 'mom': [], 'rating': [] }\n",
    "SEASON = source.find('select', attrs={'id': 'seasons'}).find('option', attrs={\"selected\": \"selected\"}).string.replace('/','-')"
   ]
  },
  {
   "cell_type": "code",
   "execution_count": 47,
   "metadata": {},
   "outputs": [],
   "source": [
    "driver.find_elements(By.XPATH, '//a[@data-backbone-model-attribute=\"isMinApp\"]')[-1].click()\n",
    "driver.execute_script(\"window.scrollBy(0,300);\")\n",
    "\n",
    "source = bs4.BeautifulSoup(driver.page_source)\n"
   ]
  },
  {
   "cell_type": "code",
   "execution_count": 48,
   "metadata": {},
   "outputs": [],
   "source": [
    "def save_page(source):\n",
    "    players = source.find_all('a', attrs={'class': 'player-link'})\n",
    "    player_names = []\n",
    "    for i in range(0, len(players), 2):\n",
    "        player_names.append(' '.join(players[i]['href'].split('/')[-1].split('-')))\n",
    "    GAME_DATA['name'] += player_names[:-20]\n",
    "\n",
    "    teams = source.find_all('span', attrs={'class': 'team-name'})\n",
    "    team_names = []\n",
    "    for i in range(0, len(teams), 2):\n",
    "        team_names.append(teams[i].string.split(',')[0])\n",
    "    GAME_DATA['team'] += team_names\n",
    "\n",
    "    minsPlayed = source.find_all('td', attrs={'class': 'minsPlayed'})\n",
    "    mins_played = []\n",
    "    for i in range(0, len(minsPlayed), 1):\n",
    "        mins_played.append(0 if minsPlayed[i].string.strip() == '-' else int(minsPlayed[i].string))\n",
    "    GAME_DATA['min'] += mins_played\n",
    "\n",
    "    goals = source.find_all('td', attrs={'class': 'goal'})\n",
    "    goals_scored = []\n",
    "    for i in range(0, len(goals), 1):\n",
    "        goals_scored.append(0 if goals[i].string.strip() == '-' else int(goals[i].string))\n",
    "    GAME_DATA['goal'] = goals_scored\n",
    "\n",
    "    assits = source.find_all('td', attrs={'class': 'assistTotal'})\n",
    "    goals_assisted = []\n",
    "    for i in range(0, len(assits), 1):\n",
    "        goals_assisted.append(0 if assits[i].string.strip() == '-' else int(assits[i].string))\n",
    "    GAME_DATA['assist'] += goals_assisted\n",
    "\n",
    "    shots = source.find_all('td', attrs={'class': 'shotsPerGame'})\n",
    "    shots_per_game = []\n",
    "    for i in range(0, len(shots), 1):\n",
    "        shots_per_game.append(0 if shots[i].string.strip() == '-' else float(shots[i].string))\n",
    "    GAME_DATA['shot'] += shots_per_game\n",
    "\n",
    "    passes = source.find_all('td', attrs={'class': 'passSuccess'})\n",
    "    pass_success = []\n",
    "    for i in range(0, len(passes), 1):\n",
    "        pass_success.append(0 if passes[i].string.strip() == '-' else float(passes[i].string)/100)\n",
    "    GAME_DATA['pass'] += pass_success\n",
    "\n",
    "    aers = source.find_all('td', attrs={'class': 'aerialWonPerGame'})\n",
    "    aer_wins = []\n",
    "    for i in range(0, len(aers), 1):\n",
    "        aer_wins.append(0 if aers[i].string.strip() == '-' else float(aers[i].string))\n",
    "    GAME_DATA['aer'] += aer_wins\n",
    "\n",
    "    moms = source.find_all('td', attrs={'class': 'manOfTheMatch'})\n",
    "    mom = []\n",
    "    for i in range(0, len(moms), 1):\n",
    "        mom.append(0 if moms[i].string.strip() == '-' else int(moms[i].string))\n",
    "    GAME_DATA['mom'] += mom\n",
    "\n",
    "    ratings = source.find_all('td', attrs={'class': 'rating'})\n",
    "    game_rating = []\n",
    "    for i in range(0, len(ratings), 1):\n",
    "        game_rating.append(0 if ratings[i].string.strip() == '-' else float(ratings[i].string))\n",
    "    GAME_DATA['rating'] += game_rating"
   ]
  },
  {
   "cell_type": "code",
   "execution_count": 49,
   "metadata": {},
   "outputs": [],
   "source": [
    "save_page(source)\n",
    "# for column in GAME_DATA:\n",
    "#     print(column, len(GAME_DATA[column]))\n",
    "# GAME_DATA['name']"
   ]
  },
  {
   "cell_type": "code",
   "execution_count": 50,
   "metadata": {},
   "outputs": [
    {
     "ename": "StaleElementReferenceException",
     "evalue": "Message: stale element reference: stale element not found\n  (Session info: chrome=115.0.5790.171); For documentation on this error, please visit: https://www.selenium.dev/documentation/webdriver/troubleshooting/errors#stale-element-reference-exception\nStacktrace:\nBacktrace:\n\tGetHandleVerifier [0x00007FF76D374A62+57106]\n\t(No symbol) [0x00007FF76D2ECF52]\n\t(No symbol) [0x00007FF76D1BE2CB]\n\t(No symbol) [0x00007FF76D1C22B2]\n\t(No symbol) [0x00007FF76D1C3C5F]\n\t(No symbol) [0x00007FF76D1C3D50]\n\t(No symbol) [0x00007FF76D1FD17C]\n\t(No symbol) [0x00007FF76D1FB90D]\n\t(No symbol) [0x00007FF76D1F98F5]\n\t(No symbol) [0x00007FF76D1F8B05]\n\t(No symbol) [0x00007FF76D1EEE2F]\n\t(No symbol) [0x00007FF76D2169BA]\n\t(No symbol) [0x00007FF76D1EE746]\n\t(No symbol) [0x00007FF76D216BD0]\n\t(No symbol) [0x00007FF76D22E522]\n\t(No symbol) [0x00007FF76D216793]\n\t(No symbol) [0x00007FF76D1ECE81]\n\t(No symbol) [0x00007FF76D1EE064]\n\tGetHandleVerifier [0x00007FF76D624222+2873042]\n\tGetHandleVerifier [0x00007FF76D676590+3209792]\n\tGetHandleVerifier [0x00007FF76D66F3AF+3180639]\n\tGetHandleVerifier [0x00007FF76D405F25+652245]\n\t(No symbol) [0x00007FF76D2F8618]\n\t(No symbol) [0x00007FF76D2F47C4]\n\t(No symbol) [0x00007FF76D2F48BC]\n\t(No symbol) [0x00007FF76D2E4C33]\n\tBaseThreadInitThunk [0x00007FFAD28026AD+29]\n\tRtlUserThreadStart [0x00007FFAD3E2AA68+40]\n",
     "output_type": "error",
     "traceback": [
      "\u001b[1;31m---------------------------------------------------------------------------\u001b[0m",
      "\u001b[1;31mStaleElementReferenceException\u001b[0m            Traceback (most recent call last)",
      "Cell \u001b[1;32mIn[50], line 7\u001b[0m\n\u001b[0;32m      1\u001b[0m \u001b[39mwhile\u001b[39;00m source\u001b[39m.\u001b[39mfind(\u001b[39m'\u001b[39m\u001b[39ma\u001b[39m\u001b[39m'\u001b[39m, attrs\u001b[39m=\u001b[39m{\u001b[39m'\u001b[39m\u001b[39mid\u001b[39m\u001b[39m'\u001b[39m: \u001b[39m'\u001b[39m\u001b[39mnext\u001b[39m\u001b[39m'\u001b[39m, \u001b[39m'\u001b[39m\u001b[39mclass\u001b[39m\u001b[39m'\u001b[39m: \u001b[39m'\u001b[39m\u001b[39mclickable\u001b[39m\u001b[39m'\u001b[39m}):\n\u001b[0;32m      2\u001b[0m     \u001b[39m# WebDriverWait(driver, 10).until(\u001b[39;00m\n\u001b[0;32m      3\u001b[0m     \u001b[39m#     EC.presence_of_element_located((By.XPATH, \"//a[@id='next']\"))\u001b[39;00m\n\u001b[0;32m      4\u001b[0m     \u001b[39m# ).click()\u001b[39;00m\n\u001b[0;32m      5\u001b[0m     \u001b[39m# driver.implicitly_wait(3)\u001b[39;00m\n\u001b[0;32m      6\u001b[0m     time\u001b[39m.\u001b[39msleep(\u001b[39m0.5\u001b[39m)\n\u001b[1;32m----> 7\u001b[0m     driver\u001b[39m.\u001b[39;49mfind_element(By\u001b[39m.\u001b[39;49mXPATH, \u001b[39m\"\u001b[39;49m\u001b[39m//a[@id=\u001b[39;49m\u001b[39m'\u001b[39;49m\u001b[39mnext\u001b[39;49m\u001b[39m'\u001b[39;49m\u001b[39m]\u001b[39;49m\u001b[39m\"\u001b[39;49m)\u001b[39m.\u001b[39;49mclick()\n\u001b[0;32m      8\u001b[0m     source \u001b[39m=\u001b[39m bs4\u001b[39m.\u001b[39mBeautifulSoup(driver\u001b[39m.\u001b[39mpage_source)\n\u001b[0;32m      9\u001b[0m     save_page(source)\n",
      "File \u001b[1;32m~\\AppData\\Local\\Packages\\PythonSoftwareFoundation.Python.3.10_qbz5n2kfra8p0\\LocalCache\\local-packages\\Python310\\site-packages\\selenium\\webdriver\\remote\\webelement.py:94\u001b[0m, in \u001b[0;36mWebElement.click\u001b[1;34m(self)\u001b[0m\n\u001b[0;32m     92\u001b[0m \u001b[39mdef\u001b[39;00m \u001b[39mclick\u001b[39m(\u001b[39mself\u001b[39m) \u001b[39m-\u001b[39m\u001b[39m>\u001b[39m \u001b[39mNone\u001b[39;00m:\n\u001b[0;32m     93\u001b[0m \u001b[39m    \u001b[39m\u001b[39m\"\"\"Clicks the element.\"\"\"\u001b[39;00m\n\u001b[1;32m---> 94\u001b[0m     \u001b[39mself\u001b[39;49m\u001b[39m.\u001b[39;49m_execute(Command\u001b[39m.\u001b[39;49mCLICK_ELEMENT)\n",
      "File \u001b[1;32m~\\AppData\\Local\\Packages\\PythonSoftwareFoundation.Python.3.10_qbz5n2kfra8p0\\LocalCache\\local-packages\\Python310\\site-packages\\selenium\\webdriver\\remote\\webelement.py:395\u001b[0m, in \u001b[0;36mWebElement._execute\u001b[1;34m(self, command, params)\u001b[0m\n\u001b[0;32m    393\u001b[0m     params \u001b[39m=\u001b[39m {}\n\u001b[0;32m    394\u001b[0m params[\u001b[39m\"\u001b[39m\u001b[39mid\u001b[39m\u001b[39m\"\u001b[39m] \u001b[39m=\u001b[39m \u001b[39mself\u001b[39m\u001b[39m.\u001b[39m_id\n\u001b[1;32m--> 395\u001b[0m \u001b[39mreturn\u001b[39;00m \u001b[39mself\u001b[39;49m\u001b[39m.\u001b[39;49m_parent\u001b[39m.\u001b[39;49mexecute(command, params)\n",
      "File \u001b[1;32m~\\AppData\\Local\\Packages\\PythonSoftwareFoundation.Python.3.10_qbz5n2kfra8p0\\LocalCache\\local-packages\\Python310\\site-packages\\selenium\\webdriver\\remote\\webdriver.py:345\u001b[0m, in \u001b[0;36mWebDriver.execute\u001b[1;34m(self, driver_command, params)\u001b[0m\n\u001b[0;32m    343\u001b[0m response \u001b[39m=\u001b[39m \u001b[39mself\u001b[39m\u001b[39m.\u001b[39mcommand_executor\u001b[39m.\u001b[39mexecute(driver_command, params)\n\u001b[0;32m    344\u001b[0m \u001b[39mif\u001b[39;00m response:\n\u001b[1;32m--> 345\u001b[0m     \u001b[39mself\u001b[39;49m\u001b[39m.\u001b[39;49merror_handler\u001b[39m.\u001b[39;49mcheck_response(response)\n\u001b[0;32m    346\u001b[0m     response[\u001b[39m\"\u001b[39m\u001b[39mvalue\u001b[39m\u001b[39m\"\u001b[39m] \u001b[39m=\u001b[39m \u001b[39mself\u001b[39m\u001b[39m.\u001b[39m_unwrap_value(response\u001b[39m.\u001b[39mget(\u001b[39m\"\u001b[39m\u001b[39mvalue\u001b[39m\u001b[39m\"\u001b[39m, \u001b[39mNone\u001b[39;00m))\n\u001b[0;32m    347\u001b[0m     \u001b[39mreturn\u001b[39;00m response\n",
      "File \u001b[1;32m~\\AppData\\Local\\Packages\\PythonSoftwareFoundation.Python.3.10_qbz5n2kfra8p0\\LocalCache\\local-packages\\Python310\\site-packages\\selenium\\webdriver\\remote\\errorhandler.py:229\u001b[0m, in \u001b[0;36mErrorHandler.check_response\u001b[1;34m(self, response)\u001b[0m\n\u001b[0;32m    227\u001b[0m         alert_text \u001b[39m=\u001b[39m value[\u001b[39m\"\u001b[39m\u001b[39malert\u001b[39m\u001b[39m\"\u001b[39m]\u001b[39m.\u001b[39mget(\u001b[39m\"\u001b[39m\u001b[39mtext\u001b[39m\u001b[39m\"\u001b[39m)\n\u001b[0;32m    228\u001b[0m     \u001b[39mraise\u001b[39;00m exception_class(message, screen, stacktrace, alert_text)  \u001b[39m# type: ignore[call-arg]  # mypy is not smart enough here\u001b[39;00m\n\u001b[1;32m--> 229\u001b[0m \u001b[39mraise\u001b[39;00m exception_class(message, screen, stacktrace)\n",
      "\u001b[1;31mStaleElementReferenceException\u001b[0m: Message: stale element reference: stale element not found\n  (Session info: chrome=115.0.5790.171); For documentation on this error, please visit: https://www.selenium.dev/documentation/webdriver/troubleshooting/errors#stale-element-reference-exception\nStacktrace:\nBacktrace:\n\tGetHandleVerifier [0x00007FF76D374A62+57106]\n\t(No symbol) [0x00007FF76D2ECF52]\n\t(No symbol) [0x00007FF76D1BE2CB]\n\t(No symbol) [0x00007FF76D1C22B2]\n\t(No symbol) [0x00007FF76D1C3C5F]\n\t(No symbol) [0x00007FF76D1C3D50]\n\t(No symbol) [0x00007FF76D1FD17C]\n\t(No symbol) [0x00007FF76D1FB90D]\n\t(No symbol) [0x00007FF76D1F98F5]\n\t(No symbol) [0x00007FF76D1F8B05]\n\t(No symbol) [0x00007FF76D1EEE2F]\n\t(No symbol) [0x00007FF76D2169BA]\n\t(No symbol) [0x00007FF76D1EE746]\n\t(No symbol) [0x00007FF76D216BD0]\n\t(No symbol) [0x00007FF76D22E522]\n\t(No symbol) [0x00007FF76D216793]\n\t(No symbol) [0x00007FF76D1ECE81]\n\t(No symbol) [0x00007FF76D1EE064]\n\tGetHandleVerifier [0x00007FF76D624222+2873042]\n\tGetHandleVerifier [0x00007FF76D676590+3209792]\n\tGetHandleVerifier [0x00007FF76D66F3AF+3180639]\n\tGetHandleVerifier [0x00007FF76D405F25+652245]\n\t(No symbol) [0x00007FF76D2F8618]\n\t(No symbol) [0x00007FF76D2F47C4]\n\t(No symbol) [0x00007FF76D2F48BC]\n\t(No symbol) [0x00007FF76D2E4C33]\n\tBaseThreadInitThunk [0x00007FFAD28026AD+29]\n\tRtlUserThreadStart [0x00007FFAD3E2AA68+40]\n"
     ]
    }
   ],
   "source": [
    "while source.find('a', attrs={'id': 'next', 'class': 'clickable'}):\n",
    "    # WebDriverWait(driver, 10).until(\n",
    "    #     EC.presence_of_element_located((By.XPATH, \"//a[@id='next']\"))\n",
    "    # ).click()\n",
    "    # driver.implicitly_wait(3)\n",
    "    time.sleep(0.5)\n",
    "    driver.find_element(By.XPATH, \"//a[@id='next']\").click()\n",
    "    source = bs4.BeautifulSoup(driver.page_source)\n",
    "    save_page(source)\n",
    "    \n",
    "pd.DataFrame(GAME_DATA).to_csv(f'seasons/England-Premier-League/{SEASON}.csv')"
   ]
  },
  {
   "cell_type": "code",
   "execution_count": null,
   "metadata": {},
   "outputs": [],
   "source": [
    "driver.close()"
   ]
  }
 ],
 "metadata": {
  "kernelspec": {
   "display_name": "Python 3",
   "language": "python",
   "name": "python3"
  },
  "language_info": {
   "codemirror_mode": {
    "name": "ipython",
    "version": 3
   },
   "file_extension": ".py",
   "mimetype": "text/x-python",
   "name": "python",
   "nbconvert_exporter": "python",
   "pygments_lexer": "ipython3",
   "version": "3.10.11"
  },
  "orig_nbformat": 4
 },
 "nbformat": 4,
 "nbformat_minor": 2
}

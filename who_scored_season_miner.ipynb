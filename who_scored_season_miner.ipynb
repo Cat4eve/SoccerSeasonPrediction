{
 "cells": [
  {
   "cell_type": "code",
   "execution_count": 17,
   "metadata": {},
   "outputs": [],
   "source": [
    "import pandas as pd\n",
    "\n",
    "import bs4\n",
    "from selenium import webdriver\n",
    "from selenium.webdriver.common.by import By\n",
    "from selenium.webdriver.support.wait import WebDriverWait\n",
    "from selenium.webdriver.support import expected_conditions as EC\n",
    "\n",
    "import time"
   ]
  },
  {
   "cell_type": "code",
   "execution_count": 18,
   "metadata": {},
   "outputs": [],
   "source": [
    "driver = webdriver.Chrome()\n",
    "driver.get('https://www.whoscored.com/Regions/252/Tournaments/2/Seasons/9075/Stages/20934/PlayerStatistics/England-Premier-League-2022-2023')"
   ]
  },
  {
   "cell_type": "code",
   "execution_count": 19,
   "metadata": {},
   "outputs": [],
   "source": [
    "source = bs4.BeautifulSoup(driver.page_source)\n",
    "\n",
    "\n",
    "GAME_DATA = { 'name': [], 'team': [], 'min': [], 'goal': [], 'assist': [], 'shot': [], 'pass': [], 'aer': [], 'mom': [], 'rating': [] }\n",
    "SEASON = source.find('select', attrs={'id': 'seasons'}).find('option', attrs={\"selected\": \"selected\"}).string.replace('/','-')"
   ]
  },
  {
   "cell_type": "code",
   "execution_count": 20,
   "metadata": {},
   "outputs": [],
   "source": [
    "driver.find_elements(By.XPATH, '//a[@data-backbone-model-attribute=\"isMinApp\"]')[-1].click()\n",
    "driver.execute_script(\"window.scrollBy(0,300);\")\n",
    "\n",
    "source = bs4.BeautifulSoup(driver.page_source)\n"
   ]
  },
  {
   "cell_type": "code",
   "execution_count": 21,
   "metadata": {},
   "outputs": [],
   "source": [
    "def save_page(source):\n",
    "    players = source.find_all('a', attrs={'class': 'player-link'})\n",
    "    player_names = []\n",
    "    for i in range(0, len(players), 2):\n",
    "        player_names.append(' '.join(players[i]['href'].split('/')[-1].split('-')))\n",
    "    GAME_DATA['name'] += player_names[:-20]\n",
    "\n",
    "    teams = source.find_all('span', attrs={'class': 'team-name'})\n",
    "    team_names = []\n",
    "    for i in range(0, len(teams), 2):\n",
    "        team_names.append(teams[i].string.split(',')[0])\n",
    "    GAME_DATA['team'] += team_names\n",
    "\n",
    "    minsPlayed = source.find_all('td', attrs={'class': 'minsPlayed'})\n",
    "    mins_played = []\n",
    "    for i in range(0, len(minsPlayed), 1):\n",
    "        mins_played.append(0 if minsPlayed[i].string.strip() == '-' else int(minsPlayed[i].string))\n",
    "    GAME_DATA['min'] += mins_played\n",
    "\n",
    "    goals = source.find_all('td', attrs={'class': 'goal'})\n",
    "    goals_scored = []\n",
    "    for i in range(0, len(goals), 1):\n",
    "        goals_scored.append(0 if goals[i].string.strip() == '-' else int(goals[i].string))\n",
    "    GAME_DATA['goal'] += goals_scored\n",
    "\n",
    "    assits = source.find_all('td', attrs={'class': 'assistTotal'})\n",
    "    goals_assisted = []\n",
    "    for i in range(0, len(assits), 1):\n",
    "        goals_assisted.append(0 if assits[i].string.strip() == '-' else int(assits[i].string))\n",
    "    GAME_DATA['assist'] += goals_assisted\n",
    "\n",
    "    shots = source.find_all('td', attrs={'class': 'shotsPerGame'})\n",
    "    shots_per_game = []\n",
    "    for i in range(0, len(shots), 1):\n",
    "        shots_per_game.append(0 if shots[i].string.strip() == '-' else float(shots[i].string))\n",
    "    GAME_DATA['shot'] += shots_per_game\n",
    "\n",
    "    passes = source.find_all('td', attrs={'class': 'passSuccess'})\n",
    "    pass_success = []\n",
    "    for i in range(0, len(passes), 1):\n",
    "        pass_success.append(0 if passes[i].string.strip() == '-' else float(passes[i].string)/100)\n",
    "    GAME_DATA['pass'] += pass_success\n",
    "\n",
    "    aers = source.find_all('td', attrs={'class': 'aerialWonPerGame'})\n",
    "    aer_wins = []\n",
    "    for i in range(0, len(aers), 1):\n",
    "        aer_wins.append(0 if aers[i].string.strip() == '-' else float(aers[i].string))\n",
    "    GAME_DATA['aer'] += aer_wins\n",
    "\n",
    "    moms = source.find_all('td', attrs={'class': 'manOfTheMatch'})\n",
    "    mom = []\n",
    "    for i in range(0, len(moms), 1):\n",
    "        mom.append(0 if moms[i].string.strip() == '-' else int(moms[i].string))\n",
    "    GAME_DATA['mom'] += mom\n",
    "\n",
    "    ratings = source.find_all('td', attrs={'class': 'rating'})\n",
    "    game_rating = []\n",
    "    for i in range(0, len(ratings), 1):\n",
    "        game_rating.append(0 if ratings[i].string.strip() == '-' else float(ratings[i].string))\n",
    "    GAME_DATA['rating'] += game_rating"
   ]
  },
  {
   "cell_type": "code",
   "execution_count": 22,
   "metadata": {},
   "outputs": [],
   "source": [
    "save_page(source)\n",
    "# for column in GAME_DATA:\n",
    "#     print(column, len(GAME_DATA[column]))\n",
    "# GAME_DATA['name']"
   ]
  },
  {
   "cell_type": "code",
   "execution_count": 23,
   "metadata": {},
   "outputs": [],
   "source": [
    "while source.find('a', attrs={'id': 'next', 'class': 'clickable'}):\n",
    "    # WebDriverWait(driver, 10).until(\n",
    "    #     EC.presence_of_element_located((By.XPATH, \"//a[@id='next']\"))\n",
    "    # ).click()\n",
    "    # driver.implicitly_wait(3)\n",
    "    time.sleep(0.5)\n",
    "    driver.find_element(By.XPATH, \"//a[@id='next']\").click()\n",
    "    source = bs4.BeautifulSoup(driver.page_source)\n",
    "    save_page(source)\n",
    "\n",
    "pd.DataFrame(GAME_DATA).to_csv(f'seasons/England-Premier-League/{SEASON}.csv')"
   ]
  },
  {
   "cell_type": "code",
   "execution_count": 24,
   "metadata": {},
   "outputs": [
    {
     "name": "stdout",
     "output_type": "stream",
     "text": [
      "name 579\n",
      "team 579\n",
      "min 579\n",
      "goal 579\n",
      "assist 579\n",
      "shot 579\n",
      "pass 579\n",
      "aer 579\n",
      "mom 579\n",
      "rating 579\n"
     ]
    }
   ],
   "source": [
    "for title in GAME_DATA:\n",
    "    print(title, len(GAME_DATA[title]))"
   ]
  },
  {
   "cell_type": "code",
   "execution_count": 25,
   "metadata": {},
   "outputs": [],
   "source": [
    "driver.close()"
   ]
  }
 ],
 "metadata": {
  "kernelspec": {
   "display_name": "Python 3",
   "language": "python",
   "name": "python3"
  },
  "language_info": {
   "codemirror_mode": {
    "name": "ipython",
    "version": 3
   },
   "file_extension": ".py",
   "mimetype": "text/x-python",
   "name": "python",
   "nbconvert_exporter": "python",
   "pygments_lexer": "ipython3",
   "version": "3.10.11"
  },
  "orig_nbformat": 4
 },
 "nbformat": 4,
 "nbformat_minor": 2
}
